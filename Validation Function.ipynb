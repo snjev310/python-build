{
 "cells": [
  {
   "cell_type": "code",
   "execution_count": 1,
   "metadata": {},
   "outputs": [],
   "source": [
    "import re\n",
    "import numpy as np"
   ]
  },
  {
   "cell_type": "code",
   "execution_count": 2,
   "metadata": {},
   "outputs": [],
   "source": [
    "def find_key(txt):\n",
    "    _key = re.findall(r'ES-MA-[0-9]*-[0-9]*',txt)\n",
    "    if _key:\n",
    "        return _key\n",
    "    else:\n",
    "        return 'Null'"
   ]
  },
  {
   "cell_type": "code",
   "execution_count": 3,
   "metadata": {},
   "outputs": [],
   "source": [
    "def find_temp(txt):\n",
    "    temp_list = []\n",
    "    tb = r'-?\\d+(?:\\.\\d+)?(?:\\s*°F)?'\n",
    "    rx = r'{0}(?:\\s?to\\s*{0})?'.format(tb)\n",
    "    results = re.findall(rx, txt)\n",
    "    for item in results:\n",
    "        if item[-1]=='F':\n",
    "            temp_list.append(item.replace('to','-'))\n",
    "    return temp_list"
   ]
  },
  {
   "cell_type": "code",
   "execution_count": 4,
   "metadata": {},
   "outputs": [],
   "source": [
    "def find_time(txt):\n",
    "    time_list = []\n",
    "    tb = r'[+]*?\\d+(?:\\.\\d+)?(?:\\s*hours)?(?:\\s*hour)?(?:\\s*hours)?'\n",
    "    rx = r'{0}(?:\\s?to\\s*{0})?'.format(tb)\n",
    "    results = re.findall(rx, txt)\n",
    "    for item in results:\n",
    "        if item[-1:-3:-1]=='sr' or item[-1:-3:-1]=='ru':\n",
    "            time_list.append((item.replace('to','-')).replace('hour','').replace('s',''))\n",
    "    return time_list"
   ]
  },
  {
   "cell_type": "code",
   "execution_count": 23,
   "metadata": {},
   "outputs": [],
   "source": [
    "def find_media_position(txt):\n",
    "    media = ['harden','furnace','quenching','annealing',]\n",
    "    word = []\n",
    "    media_list = []\n",
    "    for i,v in enumerate(txt.split(\" \")):\n",
    "        word.append(v)\n",
    "    for p in range(len(word)):\n",
    "        for q in range(len(media)):\n",
    "            if media[q] in word[p]:\n",
    "                media_list.append(p)\n",
    "    return media_list"
   ]
  },
  {
   "cell_type": "code",
   "execution_count": 27,
   "metadata": {},
   "outputs": [],
   "source": [
    "def find_min_position(txt):\n",
    "    min_pos = []\n",
    "    word = []\n",
    "    for i,v in enumerate(txt.split(\" \")):\n",
    "        word.append(v)\n",
    "    for i in range(len(find_temp(txt))):\n",
    "        #print(find_temp(stmt)[i][0:6])\n",
    "        pos = word.index(find_temp(txt)[i][0:6])\n",
    "        min_pos.append(pos)\n",
    "    return min_pos"
   ]
  },
  {
   "cell_type": "code",
   "execution_count": 35,
   "metadata": {},
   "outputs": [],
   "source": [
    "def media(txt):\n",
    "    media = []\n",
    "    word = []\n",
    "    for i,v in enumerate(txt.split(\" \")):\n",
    "        word.append(v)\n",
    "    for i in range(len(find_min_position(txt))): #[10,23]\n",
    "        lst = []\n",
    "        for j in range(len(find_media_position(txt))): #[2,4,20]\n",
    "            sub = abs(find_min_position(txt)[i]-find_media_position(txt)[j])\n",
    "            lst.append(sub)\n",
    "        media.append(word[find_media_position(txt)[lst.index(min(lst))]])\n",
    "    return media"
   ]
  },
  {
   "cell_type": "code",
   "execution_count": 36,
   "metadata": {},
   "outputs": [
    {
     "name": "stdout",
     "output_type": "stream",
     "text": [
      "\n",
      " {'ES-MA-46-5': [('1292°F - 1382°F', '8 ', 'harden'), ('1112°F - 1202°F', '8  - 9 ', 'furnace')]}\n"
     ]
    }
   ],
   "source": [
    "from collections import defaultdict\n",
    "sdict = defaultdict(list)\n",
    "keys_bucket = list()\n",
    "\n",
    "data_list = list(zip(find_temp(txt),find_time(txt),media(txt)))\n",
    "for data in data_list:\n",
    "    if find_key(txt)!='Null':\n",
    "        key = find_key(txt).pop(0)\n",
    "    else:\n",
    "        key = find_key(txt)\n",
    "    detail = data\n",
    "    \n",
    "    keys_bucket.append(key)\n",
    "    if key in keys_bucket:\n",
    "        sdict[key].append(detail)\n",
    "    else:\n",
    "        sdict[key] = detail\n",
    "\n",
    "print(\"\\n\", dict(sdict))"
   ]
  },
  {
   "cell_type": "code",
   "execution_count": 16,
   "metadata": {},
   "outputs": [],
   "source": [
    "stmt=txt='ES-MA-46-5: After solution annealing; Age harden at a material temperature of 1292°F to 1382°F (700°C to 750°C) for 8 hours minimum, furnace cool to 1112°F to 1202°F (600°C to 650°C), and hold for 8 hour to 9 hours minimum. Air cool to ambient temperature.'\n"
   ]
  },
  {
   "cell_type": "code",
   "execution_count": null,
   "metadata": {},
   "outputs": [],
   "source": []
  }
 ],
 "metadata": {
  "kernelspec": {
   "display_name": "Python 3",
   "language": "python",
   "name": "python3"
  },
  "language_info": {
   "codemirror_mode": {
    "name": "ipython",
    "version": 3
   },
   "file_extension": ".py",
   "mimetype": "text/x-python",
   "name": "python",
   "nbconvert_exporter": "python",
   "pygments_lexer": "ipython3",
   "version": "3.7.4"
  }
 },
 "nbformat": 4,
 "nbformat_minor": 2
}
